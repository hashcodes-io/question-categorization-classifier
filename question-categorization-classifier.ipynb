{
 "cells": [
  {
   "cell_type": "code",
   "execution_count": 71,
   "metadata": {},
   "outputs": [],
   "source": [
    "import numpy as np\n",
    "import pylab as pl\n",
    "import pandas as pd\n",
    "import matplotlib.pyplot as plt \n",
    "%matplotlib inline\n",
    "import seaborn as sns\n",
    "from sklearn.utils import shuffle\n",
    "from sklearn.svm import SVC\n",
    "from sklearn.metrics import confusion_matrix,classification_report\n",
    "from sklearn.model_selection import cross_val_score, GridSearchCV\n",
    "import re\n",
    "from sklearn.feature_extraction.text import CountVectorizer\n",
    "from sklearn.metrics import accuracy_score \n",
    "from sklearn.linear_model import LogisticRegression\n",
    "import os\n",
    "import io"
   ]
  },
  {
   "cell_type": "code",
   "execution_count": 72,
   "metadata": {},
   "outputs": [],
   "source": [
    "train = shuffle(pd.read_csv(\"./input/train.csv\"))\n",
    "test = shuffle(pd.read_csv(\"./input/test.csv\"))"
   ]
  },
  {
   "cell_type": "code",
   "execution_count": 73,
   "metadata": {},
   "outputs": [
    {
     "name": "stdout",
     "output_type": "stream",
     "text": [
      "Any missing sample in training set: False\n",
      "Any missing sample in test set: False \n",
      "\n"
     ]
    }
   ],
   "source": [
    "print(\"Any missing sample in training set:\",train.isnull().values.any())\n",
    "print(\"Any missing sample in test set:\",test.isnull().values.any(), \"\\n\")"
   ]
  },
  {
   "cell_type": "code",
   "execution_count": 74,
   "metadata": {},
   "outputs": [
    {
     "data": {
      "text/html": [
       "<div>\n",
       "<style scoped>\n",
       "    .dataframe tbody tr th:only-of-type {\n",
       "        vertical-align: middle;\n",
       "    }\n",
       "\n",
       "    .dataframe tbody tr th {\n",
       "        vertical-align: top;\n",
       "    }\n",
       "\n",
       "    .dataframe thead th {\n",
       "        text-align: right;\n",
       "    }\n",
       "</style>\n",
       "<table border=\"1\" class=\"dataframe\">\n",
       "  <thead>\n",
       "    <tr style=\"text-align: right;\">\n",
       "      <th>col_0</th>\n",
       "      <th>count</th>\n",
       "    </tr>\n",
       "    <tr>\n",
       "      <th>Labels</th>\n",
       "      <th></th>\n",
       "    </tr>\n",
       "  </thead>\n",
       "  <tbody>\n",
       "    <tr>\n",
       "      <th>A</th>\n",
       "      <td>149</td>\n",
       "    </tr>\n",
       "    <tr>\n",
       "      <th>C</th>\n",
       "      <td>283</td>\n",
       "    </tr>\n",
       "    <tr>\n",
       "      <th>E</th>\n",
       "      <td>235</td>\n",
       "    </tr>\n",
       "    <tr>\n",
       "      <th>N</th>\n",
       "      <td>218</td>\n",
       "    </tr>\n",
       "    <tr>\n",
       "      <th>O</th>\n",
       "      <td>227</td>\n",
       "    </tr>\n",
       "  </tbody>\n",
       "</table>\n",
       "</div>"
      ],
      "text/plain": [
       "col_0   count\n",
       "Labels       \n",
       "A         149\n",
       "C         283\n",
       "E         235\n",
       "N         218\n",
       "O         227"
      ]
     },
     "execution_count": 74,
     "metadata": {},
     "output_type": "execute_result"
    }
   ],
   "source": [
    "#Frequency distribution of classes\"\n",
    "train_outcome = pd.crosstab(index=train[\"Labels\"],  # Make a crosstab\n",
    "                            columns=\"count\")      # Name the count column\n",
    "\n",
    "train_outcome"
   ]
  },
  {
   "cell_type": "code",
   "execution_count": 75,
   "metadata": {},
   "outputs": [
    {
     "data": {
      "image/png": "[encoded data removed]",
      "text/plain": [
       "<Figure size 432x288 with 1 Axes>"
      ]
     },
     "metadata": {},
     "output_type": "display_data"
    }
   ],
   "source": [
    "# Visualizing Outcome Distribution \n",
    "temp = train[\"Labels\"].value_counts()\n",
    "df = pd.DataFrame({'labels': temp.index,\n",
    "                   'values': temp.values\n",
    "                  })\n",
    "\n",
    "labels = df['labels']\n",
    "sizes = df['values']\n",
    "colors = ['yellowgreen', 'gold', 'lightskyblue', 'lightcoral','cyan','lightpink']\n",
    "patches, texts = plt.pie(sizes, colors=colors, shadow=True, startangle=90, pctdistance=1.1, labeldistance=1.2)\n",
    "plt.legend(patches, labels, loc=\"best\")\n",
    "plt.axis('equal')\n",
    "plt.tight_layout()\n",
    "plt.show()"
   ]
  },
  {
   "cell_type": "code",
   "execution_count": 76,
   "metadata": {},
   "outputs": [],
   "source": [
    "def clean_text(text):\n",
    "    \"\"\"\n",
    "    Applies some pre-processing on the given text.\n",
    "\n",
    "    Steps :\n",
    "    - Removing HTML tags\n",
    "    - Removing punctuation\n",
    "    - Lowering text\n",
    "    \"\"\"\n",
    "    \n",
    "    # remove HTML tags\n",
    "    text = re.sub(r'<.*?>', '', text)\n",
    "    \n",
    "    # remove the characters [\\], ['] and [\"]\n",
    "    text = re.sub(r\"\\\\\", \"\", text)    \n",
    "    text = re.sub(r\"\\'\", \"\", text)    \n",
    "    text = re.sub(r\"\\\"\", \"\", text)    \n",
    "    \n",
    "    # convert text to lowercase\n",
    "    text = text.strip().lower()\n",
    "    \n",
    "    # replace punctuation characters with spaces\n",
    "    filters='!\"\\'#$%&()*+,-./:;<=>?@[\\\\]^_`{|}~\\t\\n'\n",
    "    translate_dict = dict((c, \" \") for c in filters)\n",
    "    translate_map = str.maketrans(translate_dict)\n",
    "    text = text.translate(translate_map)\n",
    "\n",
    "    return text"
   ]
  },
  {
   "cell_type": "code",
   "execution_count": 77,
   "metadata": {},
   "outputs": [
    {
     "data": {
      "text/plain": [
       "1717"
      ]
     },
     "execution_count": 77,
     "metadata": {},
     "output_type": "execute_result"
    }
   ],
   "source": [
    "# this vectorizer will skip stop words\n",
    "vectorizer = CountVectorizer(\n",
    "    stop_words=\"english\",\n",
    "    preprocessor=clean_text,\n",
    "    ngram_range=(1, 2),\n",
    "    strip_accents='unicode',\n",
    "    analyzer='word',\n",
    "    token_pattern=r'\\w{1,}',\n",
    "    #ngram_range=(1, 2)\n",
    "    #min_df=3\n",
    ")\n",
    "\n",
    "# fit the vectorizer on the training text\n",
    "trainfeatures=vectorizer.fit(train[\"Answers\"])\n",
    "\n",
    "# get the vectorizer's vocabulary\n",
    "inv_vocab = {v: k for k, v in vectorizer.vocabulary_.items()}\n",
    "vocabulary = [inv_vocab[i] for i in range(len(inv_vocab))]\n",
    "len(vocabulary)"
   ]
  },
  {
   "cell_type": "code",
   "execution_count": 78,
   "metadata": {},
   "outputs": [
    {
     "name": "stdout",
     "output_type": "stream",
     "text": [
      "Dimension of Train set (1112, 1717)\n",
      "Dimension of Test set (18, 1717) \n",
      "\n"
     ]
    }
   ],
   "source": [
    "# Seperating Predictors and Outcome values from train and test sets\n",
    "X_train = pd.DataFrame(data=vectorizer.transform(train[\"Answers\"]).toarray())\n",
    "Y_train_label = train.Labels.values.astype(object)   \n",
    "X_test = pd.DataFrame(data=vectorizer.transform(test[\"Answers\"]).toarray())    \n",
    "Y_test_label = test.Labels.values.astype(object)     \n",
    " \n",
    "# Dimension of Train and Test set \n",
    "print(\"Dimension of Train set\",X_train.shape)\n",
    "print(\"Dimension of Test set\",X_test.shape,\"\\n\")"
   ]
  },
  {
   "cell_type": "code",
   "execution_count": 79,
   "metadata": {},
   "outputs": [
    {
     "name": "stdout",
     "output_type": "stream",
     "text": [
      "[1 2 1 ... 4 2 4]\n",
      "[4 4 4 2 2 1 0 1 3 1 3 1 4 4 1 0 1 1]\n",
      "Number of numeric features: 1717\n"
     ]
    }
   ],
   "source": [
    "# Transforming non numerical labels into numerical labels\n",
    "from sklearn import preprocessing\n",
    "encoder = preprocessing.LabelEncoder()\n",
    "\n",
    "# encoding train labels \n",
    "encoder.fit(Y_train_label)\n",
    "Y_train = encoder.transform(Y_train_label)\n",
    "print (Y_train)\n",
    "# encoding test labels \n",
    "encoder.fit(Y_test_label)\n",
    "Y_test = encoder.transform(Y_test_label)\n",
    "print (Y_test)\n",
    "\n",
    "#Total Number of Continous and Categorical features in the training set\n",
    "num_cols = X_train._get_numeric_data().columns\n",
    "print(\"Number of numeric features:\",num_cols.size)\n",
    "\n",
    "names_of_predictors = list(X_train.columns.values)"
   ]
  },
  {
   "cell_type": "code",
   "execution_count": 80,
   "metadata": {
    "scrolled": true
   },
   "outputs": [
    {
     "name": "stdout",
     "output_type": "stream",
     "text": [
      "[4 4 1 2 2 1 0 1 1 1 3 1 4 4 1 0 1 1]\n",
      "[4 4 4 2 2 1 0 1 3 1 3 1 4 4 1 0 1 1]\n"
     ]
    },
    {
     "data": {
      "text/plain": [
       "0.8888888888888888"
      ]
     },
     "execution_count": 80,
     "metadata": {},
     "output_type": "execute_result"
    }
   ],
   "source": [
    "model = LogisticRegression(C=1.0,solver='lbfgs',multi_class='auto')\n",
    "model.fit(X_train,Y_train)\n",
    "predicted_classes = model.predict(X_test)\n",
    "print (predicted_classes)\n",
    "print (Y_test)\n",
    "accuracy = accuracy_score(Y_test,predicted_classes)\n",
    "accuracy"
   ]
  },
  {
   "cell_type": "code",
   "execution_count": null,
   "metadata": {},
   "outputs": [],
   "source": []
  }
 ],
 "metadata": {
  "kernelspec": {
   "display_name": "Python 3",
   "language": "python",
   "name": "python3"
  },
  "language_info": {
   "codemirror_mode": {
    "name": "ipython",
    "version": 3
   },
   "file_extension": ".py",
   "mimetype": "text/x-python",
   "name": "python",
   "nbconvert_exporter": "python",
   "pygments_lexer": "ipython3",
   "version": "3.7.3"
  }
 },
 "nbformat": 4,
 "nbformat_minor": 2
}
